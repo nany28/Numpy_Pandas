{
 "cells": [
  {
   "cell_type": "code",
   "execution_count": 1,
   "id": "fceb9ae2",
   "metadata": {},
   "outputs": [
    {
     "data": {
      "text/plain": [
       "array([7, 4, 5, 8, 9, 0, 1, 3, 2, 6])"
      ]
     },
     "execution_count": 1,
     "metadata": {},
     "output_type": "execute_result"
    }
   ],
   "source": [
    "import numpy as np\n",
    "values = [7, 4, 5, 8, 9, 0, 1, 3, 2, 6] #list\n",
    "x = np.array(values) # creating array from a list\n",
    "x"
   ]
  },
  {
   "cell_type": "markdown",
   "id": "793c126a",
   "metadata": {},
   "source": [
    "#### Select values using index"
   ]
  },
  {
   "cell_type": "code",
   "execution_count": 2,
   "id": "ba19f12e",
   "metadata": {},
   "outputs": [
    {
     "data": {
      "text/plain": [
       "0"
      ]
     },
     "execution_count": 2,
     "metadata": {},
     "output_type": "execute_result"
    }
   ],
   "source": [
    "x[5] # 6th element"
   ]
  },
  {
   "cell_type": "code",
   "execution_count": 4,
   "id": "2dc8f72a",
   "metadata": {},
   "outputs": [
    {
     "data": {
      "text/plain": [
       "2"
      ]
     },
     "execution_count": 4,
     "metadata": {},
     "output_type": "execute_result"
    }
   ],
   "source": [
    "x[-2] # second_last"
   ]
  },
  {
   "cell_type": "code",
   "execution_count": 5,
   "id": "05540f6b",
   "metadata": {},
   "outputs": [
    {
     "data": {
      "text/plain": [
       "array([4, 8, 0, 3, 6])"
      ]
     },
     "execution_count": 5,
     "metadata": {},
     "output_type": "execute_result"
    }
   ],
   "source": [
    "x[1::2] # odd index number values"
   ]
  },
  {
   "cell_type": "code",
   "execution_count": 6,
   "id": "cdb1059a",
   "metadata": {},
   "outputs": [
    {
     "data": {
      "text/plain": [
       "array([7, 5, 9, 1, 2])"
      ]
     },
     "execution_count": 6,
     "metadata": {},
     "output_type": "execute_result"
    }
   ],
   "source": [
    "x[::2] # even index number values"
   ]
  },
  {
   "cell_type": "code",
   "execution_count": 8,
   "id": "e5ef0260",
   "metadata": {},
   "outputs": [
    {
     "data": {
      "text/plain": [
       "array([ 7,  4,  5,  8,  9,  0,  1,  3,  2,  6, 10, 11, 12, 13, 14, 15])"
      ]
     },
     "execution_count": 8,
     "metadata": {},
     "output_type": "execute_result"
    }
   ],
   "source": [
    "y = [10,11,12,13,14,15]\n",
    "z = np.concatenate([x,y]) # combine x and y\n",
    "z"
   ]
  },
  {
   "cell_type": "code",
   "execution_count": 9,
   "id": "e5a092dd",
   "metadata": {},
   "outputs": [
    {
     "data": {
      "text/plain": [
       "array([15, 14, 13, 12, 11, 10,  6,  2,  3,  1,  0,  9,  8,  5,  4,  7])"
      ]
     },
     "execution_count": 9,
     "metadata": {},
     "output_type": "execute_result"
    }
   ],
   "source": [
    "z[::-1] # reverse z"
   ]
  },
  {
   "cell_type": "code",
   "execution_count": null,
   "id": "ff54f973",
   "metadata": {},
   "outputs": [],
   "source": []
  }
 ],
 "metadata": {
  "kernelspec": {
   "display_name": "Python 3 (ipykernel)",
   "language": "python",
   "name": "python3"
  },
  "language_info": {
   "codemirror_mode": {
    "name": "ipython",
    "version": 3
   },
   "file_extension": ".py",
   "mimetype": "text/x-python",
   "name": "python",
   "nbconvert_exporter": "python",
   "pygments_lexer": "ipython3",
   "version": "3.9.7"
  }
 },
 "nbformat": 4,
 "nbformat_minor": 5
}
