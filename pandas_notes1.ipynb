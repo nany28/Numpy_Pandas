{
 "cells": [
  {
   "cell_type": "code",
   "execution_count": 8,
   "id": "bf0679b3",
   "metadata": {},
   "outputs": [
    {
     "name": "stdout",
     "output_type": "stream",
     "text": [
      "<class 'pandas.core.frame.DataFrame'>\n",
      "(500, 16)\n"
     ]
    }
   ],
   "source": [
    "import pandas as pd\n",
    "f500 = pd.read_csv('f500.csv',index_col=0)\n",
    "f500.index.name = None\n",
    "f500_type = type(f500)\n",
    "print(f500_type)\n",
    "f500_shape = f500.shape\n",
    "print(f500_shape)\n"
   ]
  },
  {
   "cell_type": "code",
   "execution_count": 9,
   "id": "bf10988f",
   "metadata": {},
   "outputs": [],
   "source": [
    "f500_head =f500.head()\n",
    "f500_tail = f500.tail()"
   ]
  },
  {
   "cell_type": "code",
   "execution_count": 10,
   "id": "d60878f7",
   "metadata": {},
   "outputs": [
    {
     "name": "stdout",
     "output_type": "stream",
     "text": [
      "                          rank  revenues  revenue_change  profits  assets  \\\n",
      "Walmart                      1    485873             0.8  13643.0  198825   \n",
      "State Grid                   2    315199            -4.4   9571.3  489838   \n",
      "Sinopec Group                3    267518            -9.1   1257.9  310726   \n",
      "China National Petroleum     4    262573           -12.3   1867.5  585619   \n",
      "Toyota Motor                 5    254694             7.7  16899.3  437575   \n",
      "\n",
      "                          profit_change                  ceo  \\\n",
      "Walmart                            -7.2  C. Douglas McMillon   \n",
      "State Grid                         -6.2              Kou Wei   \n",
      "Sinopec Group                     -65.0            Wang Yupu   \n",
      "China National Petroleum          -73.7        Zhang Jianhua   \n",
      "Toyota Motor                      -12.3          Akio Toyoda   \n",
      "\n",
      "                                          industry                  sector  \\\n",
      "Walmart                      General Merchandisers               Retailing   \n",
      "State Grid                               Utilities                  Energy   \n",
      "Sinopec Group                   Petroleum Refining                  Energy   \n",
      "China National Petroleum        Petroleum Refining                  Energy   \n",
      "Toyota Motor              Motor Vehicles and Parts  Motor Vehicles & Parts   \n",
      "\n",
      "                          previous_rank country      hq_location  \\\n",
      "Walmart                               1     USA  Bentonville, AR   \n",
      "State Grid                            2   China   Beijing, China   \n",
      "Sinopec Group                         4   China   Beijing, China   \n",
      "China National Petroleum              3   China   Beijing, China   \n",
      "Toyota Motor                          8   Japan    Toyota, Japan   \n",
      "\n",
      "                                               website  \\\n",
      "Walmart                         http://www.walmart.com   \n",
      "State Grid                      http://www.sgcc.com.cn   \n",
      "Sinopec Group                   http://www.sinopec.com   \n",
      "China National Petroleum        http://www.cnpc.com.cn   \n",
      "Toyota Motor              http://www.toyota-global.com   \n",
      "\n",
      "                          years_on_global_500_list  employees  \\\n",
      "Walmart                                         23    2300000   \n",
      "State Grid                                      17     926067   \n",
      "Sinopec Group                                   19     713288   \n",
      "China National Petroleum                        17    1512048   \n",
      "Toyota Motor                                    23     364445   \n",
      "\n",
      "                          total_stockholder_equity  \n",
      "Walmart                                      77798  \n",
      "State Grid                                  209456  \n",
      "Sinopec Group                               106523  \n",
      "China National Petroleum                    301893  \n",
      "Toyota Motor                                157210  \n"
     ]
    }
   ],
   "source": [
    "print(f500_head)"
   ]
  },
  {
   "cell_type": "code",
   "execution_count": 11,
   "id": "8824a959",
   "metadata": {},
   "outputs": [
    {
     "name": "stdout",
     "output_type": "stream",
     "text": [
      "                                rank  revenues  revenue_change  profits  \\\n",
      "Teva Pharmaceutical Industries   496     21903            11.5    329.0   \n",
      "New China Life Insurance         497     21796           -13.3    743.9   \n",
      "Wm. Morrison Supermarkets        498     21741           -11.3    406.4   \n",
      "TUI                              499     21655            -5.5   1151.7   \n",
      "AutoNation                       500     21609             3.6    430.5   \n",
      "\n",
      "                                assets  profit_change                 ceo  \\\n",
      "Teva Pharmaceutical Industries   92890          -79.3   Yitzhak Peterburg   \n",
      "New China Life Insurance        100609          -45.6            Wan Feng   \n",
      "Wm. Morrison Supermarkets        11630           20.4      David T. Potts   \n",
      "TUI                              16247          195.5   Friedrich Joussen   \n",
      "AutoNation                       10060           -2.7  Michael J. Jackson   \n",
      "\n",
      "                                                       industry  \\\n",
      "Teva Pharmaceutical Industries                  Pharmaceuticals   \n",
      "New China Life Insurance        Insurance: Life, Health (stock)   \n",
      "Wm. Morrison Supermarkets                  Food and Drug Stores   \n",
      "TUI                                             Travel Services   \n",
      "AutoNation                                  Specialty Retailers   \n",
      "\n",
      "                                            sector  previous_rank  country  \\\n",
      "Teva Pharmaceutical Industries         Health Care              0   Israel   \n",
      "New China Life Insurance                Financials            427    China   \n",
      "Wm. Morrison Supermarkets       Food & Drug Stores            437  Britain   \n",
      "TUI                              Business Services            467  Germany   \n",
      "AutoNation                               Retailing              0      USA   \n",
      "\n",
      "                                         hq_location  \\\n",
      "Teva Pharmaceutical Industries  Petach Tikva, Israel   \n",
      "New China Life Insurance              Beijing, China   \n",
      "Wm. Morrison Supermarkets          Bradford, Britain   \n",
      "TUI                                 Hanover, Germany   \n",
      "AutoNation                       Fort Lauderdale, FL   \n",
      "\n",
      "                                                    website  \\\n",
      "Teva Pharmaceutical Industries     http://www.tevapharm.com   \n",
      "New China Life Insurance        http://www.newchinalife.com   \n",
      "Wm. Morrison Supermarkets          http://www.morrisons.com   \n",
      "TUI                                 http://www.tuigroup.com   \n",
      "AutoNation                        http://www.autonation.com   \n",
      "\n",
      "                                years_on_global_500_list  employees  \\\n",
      "Teva Pharmaceutical Industries                         1      56960   \n",
      "New China Life Insurance                               2      54378   \n",
      "Wm. Morrison Supermarkets                             13      77210   \n",
      "TUI                                                   23      66779   \n",
      "AutoNation                                            12      26000   \n",
      "\n",
      "                                total_stockholder_equity  \n",
      "Teva Pharmaceutical Industries                     33337  \n",
      "New China Life Insurance                            8507  \n",
      "Wm. Morrison Supermarkets                           5111  \n",
      "TUI                                                 3006  \n",
      "AutoNation                                          2310  \n"
     ]
    }
   ],
   "source": [
    "print(f500_tail)"
   ]
  },
  {
   "cell_type": "code",
   "execution_count": 12,
   "id": "2153fe6a",
   "metadata": {},
   "outputs": [
    {
     "name": "stdout",
     "output_type": "stream",
     "text": [
      "<class 'pandas.core.frame.DataFrame'>\n",
      "Index: 500 entries, Walmart to AutoNation\n",
      "Data columns (total 16 columns):\n",
      " #   Column                    Non-Null Count  Dtype  \n",
      "---  ------                    --------------  -----  \n",
      " 0   rank                      500 non-null    int64  \n",
      " 1   revenues                  500 non-null    int64  \n",
      " 2   revenue_change            498 non-null    float64\n",
      " 3   profits                   499 non-null    float64\n",
      " 4   assets                    500 non-null    int64  \n",
      " 5   profit_change             436 non-null    float64\n",
      " 6   ceo                       500 non-null    object \n",
      " 7   industry                  500 non-null    object \n",
      " 8   sector                    500 non-null    object \n",
      " 9   previous_rank             500 non-null    int64  \n",
      " 10  country                   500 non-null    object \n",
      " 11  hq_location               500 non-null    object \n",
      " 12  website                   500 non-null    object \n",
      " 13  years_on_global_500_list  500 non-null    int64  \n",
      " 14  employees                 500 non-null    int64  \n",
      " 15  total_stockholder_equity  500 non-null    int64  \n",
      "dtypes: float64(3), int64(7), object(6)\n",
      "memory usage: 66.4+ KB\n"
     ]
    }
   ],
   "source": [
    "f500.info()"
   ]
  },
  {
   "cell_type": "code",
   "execution_count": 13,
   "id": "14e13ea3",
   "metadata": {},
   "outputs": [
    {
     "name": "stdout",
     "output_type": "stream",
     "text": [
      "Walmart          General Merchandisers\n",
      "State Grid                   Utilities\n",
      "Sinopec Group       Petroleum Refining\n",
      "Name: industry, dtype: object\n"
     ]
    }
   ],
   "source": [
    "industries = f500.loc[:,\"industry\"]\n",
    "#print(industries)\n",
    "industries_type = type(industries)\n",
    "print(industries.head(3))"
   ]
  },
  {
   "cell_type": "code",
   "execution_count": 14,
   "id": "e784a9e3",
   "metadata": {},
   "outputs": [],
   "source": [
    "countries = f500[\"country\"]\n",
    "revenues_years = f500[[\"revenues\",\"years_on_global_500_list\"]]\n",
    "ceo_to_sector = f500.loc[:,\"ceo\":\"sector\"]"
   ]
  },
  {
   "cell_type": "code",
   "execution_count": 17,
   "id": "0daa5e69",
   "metadata": {},
   "outputs": [
    {
     "name": "stdout",
     "output_type": "stream",
     "text": [
      "<class 'pandas.core.frame.DataFrame'>\n",
      "Index: 500 entries, Walmart to AutoNation\n",
      "Data columns (total 3 columns):\n",
      " #   Column    Non-Null Count  Dtype \n",
      "---  ------    --------------  ----- \n",
      " 0   ceo       500 non-null    object\n",
      " 1   industry  500 non-null    object\n",
      " 2   sector    500 non-null    object\n",
      "dtypes: object(3)\n",
      "memory usage: 15.6+ KB\n"
     ]
    }
   ],
   "source": [
    "countries.head(3)\n",
    "ceo_to_sector.info()"
   ]
  },
  {
   "cell_type": "code",
   "execution_count": 18,
   "id": "9cfdd01a",
   "metadata": {},
   "outputs": [],
   "source": [
    "toyota = f500.loc['Toyota Motor']\n",
    "drink_companies = f500.loc[[\"Anheuser-Busch InBev\", \"Coca-Cola\", \"Heineken Holding\"]]\n",
    "middle_companies = f500.loc[\"Tata Motors\":\"Nationwide\", \"rank\":\"country\"]"
   ]
  },
  {
   "cell_type": "code",
   "execution_count": 20,
   "id": "64640f20",
   "metadata": {},
   "outputs": [
    {
     "name": "stdout",
     "output_type": "stream",
     "text": [
      "USA             132\n",
      "China           109\n",
      "Japan            51\n",
      "Germany          29\n",
      "France           29\n",
      "Britain          24\n",
      "South Korea      15\n",
      "Netherlands      14\n",
      "Switzerland      14\n",
      "Canada           11\n",
      "Spain             9\n",
      "Australia         7\n",
      "Brazil            7\n",
      "India             7\n",
      "Italy             7\n",
      "Taiwan            6\n",
      "Russia            4\n",
      "Ireland           4\n",
      "Singapore         3\n",
      "Sweden            3\n",
      "Mexico            2\n",
      "Malaysia          1\n",
      "Thailand          1\n",
      "Belgium           1\n",
      "Norway            1\n",
      "Luxembourg        1\n",
      "Indonesia         1\n",
      "Denmark           1\n",
      "Saudi Arabia      1\n",
      "Finland           1\n",
      "Venezuela         1\n",
      "Turkey            1\n",
      "U.A.E             1\n",
      "Israel            1\n",
      "Name: country, dtype: int64\n"
     ]
    }
   ],
   "source": [
    "country_counts = countries.value_counts()\n",
    "print(country_counts)"
   ]
  },
  {
   "cell_type": "code",
   "execution_count": 22,
   "id": "9109c258",
   "metadata": {},
   "outputs": [
    {
     "name": "stdout",
     "output_type": "stream",
     "text": [
      "7\n"
     ]
    }
   ],
   "source": [
    "india = country_counts.loc['India']\n",
    "print(india)\n",
    "north_america = countries_counts.loc[['USA','Canada','Mexico']]\n",
    "print(north_america)"
   ]
  },
  {
   "cell_type": "code",
   "execution_count": 23,
   "id": "3ae65220",
   "metadata": {},
   "outputs": [],
   "source": [
    "big_movers = f500.loc[[\"Aviva\",\"HP\",\"JD.com\",\"BHP Billiton\"],['rank','previous_rank']]\n",
    "bottom_companies = f500.loc[\"National Grid\":\"AutoNation\", [\"rank\",\"sector\",\"country\"]]"
   ]
  },
  {
   "cell_type": "code",
   "execution_count": 24,
   "id": "4525501a",
   "metadata": {},
   "outputs": [
    {
     "name": "stdout",
     "output_type": "stream",
     "text": [
      "              rank  previous_rank\n",
      "Aviva           90            279\n",
      "HP             194             48\n",
      "JD.com         261            366\n",
      "BHP Billiton   350            168\n"
     ]
    }
   ],
   "source": [
    "print(big_movers.head())"
   ]
  },
  {
   "cell_type": "code",
   "execution_count": 25,
   "id": "3c5b3b6b",
   "metadata": {},
   "outputs": [
    {
     "name": "stdout",
     "output_type": "stream",
     "text": [
      "                                       rank              sector  country\n",
      "National Grid                           491              Energy  Britain\n",
      "Dollar General                          492           Retailing      USA\n",
      "Telecom Italia                          493  Telecommunications    Italy\n",
      "Xiamen ITG Holding Group                494         Wholesalers    China\n",
      "Xinjiang Guanghui Industry Investment   495         Wholesalers    China\n"
     ]
    }
   ],
   "source": [
    "print(bottom_companies.head())"
   ]
  },
  {
   "cell_type": "code",
   "execution_count": null,
   "id": "8f2e2f75",
   "metadata": {},
   "outputs": [],
   "source": []
  }
 ],
 "metadata": {
  "kernelspec": {
   "display_name": "Python 3 (ipykernel)",
   "language": "python",
   "name": "python3"
  },
  "language_info": {
   "codemirror_mode": {
    "name": "ipython",
    "version": 3
   },
   "file_extension": ".py",
   "mimetype": "text/x-python",
   "name": "python",
   "nbconvert_exporter": "python",
   "pygments_lexer": "ipython3",
   "version": "3.9.7"
  }
 },
 "nbformat": 4,
 "nbformat_minor": 5
}
