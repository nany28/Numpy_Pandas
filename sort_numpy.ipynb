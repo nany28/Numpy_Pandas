{
 "cells": [
  {
   "cell_type": "code",
   "execution_count": 1,
   "id": "15110abb",
   "metadata": {},
   "outputs": [
    {
     "data": {
      "text/plain": [
       "array([[9, 8, 7],\n",
       "       [6, 5, 4],\n",
       "       [3, 2, 1]])"
      ]
     },
     "execution_count": 1,
     "metadata": {},
     "output_type": "execute_result"
    }
   ],
   "source": [
    "import numpy as np\n",
    "x = np.arange(9,0,-1).reshape(3,3)\n",
    "x"
   ]
  },
  {
   "cell_type": "code",
   "execution_count": 2,
   "id": "32f53413",
   "metadata": {},
   "outputs": [
    {
     "data": {
      "text/plain": [
       "array([[7, 8, 9],\n",
       "       [4, 5, 6],\n",
       "       [1, 2, 3]])"
      ]
     },
     "execution_count": 2,
     "metadata": {},
     "output_type": "execute_result"
    }
   ],
   "source": [
    "x.sort(axis=1) # sort all rows\n",
    "x"
   ]
  },
  {
   "cell_type": "code",
   "execution_count": 3,
   "id": "aeee409c",
   "metadata": {},
   "outputs": [
    {
     "data": {
      "text/plain": [
       "array([[1, 2, 3],\n",
       "       [4, 5, 6],\n",
       "       [7, 8, 9]])"
      ]
     },
     "execution_count": 3,
     "metadata": {},
     "output_type": "execute_result"
    }
   ],
   "source": [
    "x.sort(axis=0) # sort all columns\n",
    "x"
   ]
  },
  {
   "cell_type": "code",
   "execution_count": 4,
   "id": "92bfc212",
   "metadata": {},
   "outputs": [
    {
     "data": {
      "text/plain": [
       "array([[36, 35, 34, 33, 32, 31],\n",
       "       [30, 29, 28, 27, 26, 25],\n",
       "       [24, 23, 22, 21, 20, 19],\n",
       "       [18, 17, 16, 15, 14, 13],\n",
       "       [12, 11, 10,  9,  8,  7],\n",
       "       [ 6,  5,  4,  3,  2,  1]])"
      ]
     },
     "execution_count": 4,
     "metadata": {},
     "output_type": "execute_result"
    }
   ],
   "source": [
    "y=np.arange(36,0,-1).reshape(6,6)\n",
    "y"
   ]
  },
  {
   "cell_type": "code",
   "execution_count": 5,
   "id": "ef6a0e37",
   "metadata": {},
   "outputs": [
    {
     "data": {
      "text/plain": [
       "array([[36,  5, 34, 33, 32, 31],\n",
       "       [30, 11, 28, 27, 26, 25],\n",
       "       [24, 17, 22, 21, 20, 19],\n",
       "       [18, 23, 16, 15, 14, 13],\n",
       "       [12, 29, 10,  9,  8,  7],\n",
       "       [ 6, 35,  4,  3,  2,  1]])"
      ]
     },
     "execution_count": 5,
     "metadata": {},
     "output_type": "execute_result"
    }
   ],
   "source": [
    "y[:,1] = np.sort(y[:,1]) # sorting only second column\n",
    "y"
   ]
  },
  {
   "cell_type": "code",
   "execution_count": 6,
   "id": "42948f5b",
   "metadata": {},
   "outputs": [
    {
     "data": {
      "text/plain": [
       "array([[36,  5, 34, 33, 32, 31],\n",
       "       [30, 11, 28, 27, 26, 25],\n",
       "       [17, 19, 20, 21, 22, 24],\n",
       "       [18, 23, 16, 15, 14, 13],\n",
       "       [12, 29, 10,  9,  8,  7],\n",
       "       [ 6, 35,  4,  3,  2,  1]])"
      ]
     },
     "execution_count": 6,
     "metadata": {},
     "output_type": "execute_result"
    }
   ],
   "source": [
    "y[2,:] = np.sort(y[2,:]) # sorting only thrid row\n",
    "y"
   ]
  },
  {
   "cell_type": "code",
   "execution_count": 7,
   "id": "1d22af5b",
   "metadata": {},
   "outputs": [
    {
     "data": {
      "text/plain": [
       "array([[36,  5, 34, 53, 32, 31],\n",
       "       [30, 11, 28, 27, 26, 25],\n",
       "       [84, 17, 91, 21, 70, 19],\n",
       "       [18, 73, 16, 15, 64, 13],\n",
       "       [12, 59, 10,  9, 48,  7],\n",
       "       [63, 35, 44, 83, 92, 71]])"
      ]
     },
     "execution_count": 7,
     "metadata": {},
     "output_type": "execute_result"
    }
   ],
   "source": [
    "z = np.array([[36, 5, 34, 53, 32, 31],\n",
    "       [30, 11, 28, 27, 26, 25],\n",
    "       [84, 17, 91, 21, 70, 19],\n",
    "       [18, 73, 16, 15, 64, 13],\n",
    "       [12, 59, 10, 9, 48, 7],\n",
    "       [ 63, 35, 44, 83, 92, 71]])\n",
    "z"
   ]
  },
  {
   "cell_type": "code",
   "execution_count": 8,
   "id": "2fc23891",
   "metadata": {},
   "outputs": [
    {
     "data": {
      "text/plain": [
       "array([[36,  5, 34, 53, 32, 31],\n",
       "       [30, 11, 28, 27, 26, 25],\n",
       "       [17, 19, 21, 70, 84, 91],\n",
       "       [18, 73, 16, 15, 64, 13],\n",
       "       [ 7,  9, 10, 12, 48, 59],\n",
       "       [63, 35, 44, 83, 92, 71]])"
      ]
     },
     "execution_count": 8,
     "metadata": {},
     "output_type": "execute_result"
    }
   ],
   "source": [
    "z[[2,4],:]= np.sort(z[[2,4],:]) # sorting third and fifth rows\n",
    "z"
   ]
  },
  {
   "cell_type": "code",
   "execution_count": 9,
   "id": "32f4fa59",
   "metadata": {},
   "outputs": [
    {
     "data": {
      "text/plain": [
       "array([[36,  5, 34, 12, 32, 13],\n",
       "       [30, 11, 28, 15, 26, 25],\n",
       "       [17, 19, 21, 27, 84, 31],\n",
       "       [18, 73, 16, 53, 64, 59],\n",
       "       [ 7,  9, 10, 70, 48, 71],\n",
       "       [63, 35, 44, 83, 92, 91]])"
      ]
     },
     "execution_count": 9,
     "metadata": {},
     "output_type": "execute_result"
    }
   ],
   "source": [
    "z[:,[3,5]] = np.sort(z[:,[3,5]],axis=0) # sorting fourth and sixth colmns\n",
    "z"
   ]
  },
  {
   "cell_type": "code",
   "execution_count": 10,
   "id": "9e42d3ec",
   "metadata": {},
   "outputs": [
    {
     "data": {
      "text/plain": [
       "array([[36,  5, 34, 53, 32, 31],\n",
       "       [30, 11, 28, 27, 26, 25],\n",
       "       [84, 17, 91, 21, 70, 19],\n",
       "       [18, 73, 16, 15, 64, 13],\n",
       "       [12, 59, 10,  9, 48,  7],\n",
       "       [63, 35, 44, 83, 92, 71]])"
      ]
     },
     "execution_count": 10,
     "metadata": {},
     "output_type": "execute_result"
    }
   ],
   "source": [
    "A = np.array([[36, 5, 34, 53, 32, 31],\n",
    "       [30, 11, 28, 27, 26, 25],\n",
    "       [84, 17, 91, 21, 70, 19],\n",
    "       [18, 73, 16, 15, 64, 13],\n",
    "       [12, 59, 10, 9, 48, 7],\n",
    "       [ 63, 35, 44, 83, 92, 71]])\n",
    "A"
   ]
  },
  {
   "cell_type": "markdown",
   "id": "fb8363f3",
   "metadata": {},
   "source": [
    "Sort all the columns based on one column"
   ]
  },
  {
   "cell_type": "code",
   "execution_count": 11,
   "id": "1f109321",
   "metadata": {},
   "outputs": [
    {
     "data": {
      "text/plain": [
       "array([[12, 59, 10,  9, 48,  7],\n",
       "       [18, 73, 16, 15, 64, 13],\n",
       "       [30, 11, 28, 27, 26, 25],\n",
       "       [36,  5, 34, 53, 32, 31],\n",
       "       [63, 35, 44, 83, 92, 71],\n",
       "       [84, 17, 91, 21, 70, 19]])"
      ]
     },
     "execution_count": 11,
     "metadata": {},
     "output_type": "execute_result"
    }
   ],
   "source": [
    "by_col_3 = A[:, 2].argsort()\n",
    "B = A[by_col_3] # based on third column\n",
    "B"
   ]
  },
  {
   "cell_type": "code",
   "execution_count": 12,
   "id": "7fdea0a7",
   "metadata": {},
   "outputs": [
    {
     "data": {
      "text/plain": [
       "array([[30, 11, 28, 27, 26, 25],\n",
       "       [36,  5, 34, 53, 32, 31],\n",
       "       [12, 59, 10,  9, 48,  7],\n",
       "       [18, 73, 16, 15, 64, 13],\n",
       "       [84, 17, 91, 21, 70, 19],\n",
       "       [63, 35, 44, 83, 92, 71]])"
      ]
     },
     "execution_count": 12,
     "metadata": {},
     "output_type": "execute_result"
    }
   ],
   "source": [
    "by_col_5 = A[:,4].argsort()\n",
    "C = A[by_col_5] #based on 5th column\n",
    "\n",
    "C"
   ]
  }
 ],
 "metadata": {
  "kernelspec": {
   "display_name": "Python 3 (ipykernel)",
   "language": "python",
   "name": "python3"
  },
  "language_info": {
   "codemirror_mode": {
    "name": "ipython",
    "version": 3
   },
   "file_extension": ".py",
   "mimetype": "text/x-python",
   "name": "python",
   "nbconvert_exporter": "python",
   "pygments_lexer": "ipython3",
   "version": "3.9.7"
  }
 },
 "nbformat": 4,
 "nbformat_minor": 5
}
