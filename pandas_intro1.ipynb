{
 "cells": [
  {
   "cell_type": "markdown",
   "id": "cf3b347f",
   "metadata": {},
   "source": [
    "#### Create a series using Pandas with a list"
   ]
  },
  {
   "cell_type": "code",
   "execution_count": 7,
   "id": "b35499f5",
   "metadata": {},
   "outputs": [
    {
     "name": "stdout",
     "output_type": "stream",
     "text": [
      "0    10\n",
      "1    15\n",
      "2    20\n",
      "3    25\n",
      "4    30\n",
      "5    35\n",
      "6    40\n",
      "7    45\n",
      "dtype: int64\n"
     ]
    }
   ],
   "source": [
    "import pandas as pd\n",
    "values = list(range(10,50,5))\n",
    "series = pd.Series(values)\n",
    "print(series)"
   ]
  },
  {
   "cell_type": "markdown",
   "id": "fdcf2a3e",
   "metadata": {},
   "source": [
    "### Slicing a series"
   ]
  },
  {
   "cell_type": "code",
   "execution_count": 8,
   "id": "8a1723d5",
   "metadata": {},
   "outputs": [
    {
     "name": "stdout",
     "output_type": "stream",
     "text": [
      "1    15\n",
      "2    20\n",
      "dtype: int64 7    45\n",
      "6    40\n",
      "5    35\n",
      "4    30\n",
      "3    25\n",
      "2    20\n",
      "1    15\n",
      "0    10\n",
      "dtype: int64\n"
     ]
    }
   ],
   "source": [
    "slice1 = series[1:3]\n",
    "slice2= series[::-1]\n",
    "print(slice1,slice2)"
   ]
  },
  {
   "cell_type": "code",
   "execution_count": null,
   "id": "68f12295",
   "metadata": {},
   "outputs": [],
   "source": []
  },
  {
   "cell_type": "code",
   "execution_count": null,
   "id": "8fc8828d",
   "metadata": {},
   "outputs": [],
   "source": []
  }
 ],
 "metadata": {
  "kernelspec": {
   "display_name": "Python 3 (ipykernel)",
   "language": "python",
   "name": "python3"
  },
  "language_info": {
   "codemirror_mode": {
    "name": "ipython",
    "version": 3
   },
   "file_extension": ".py",
   "mimetype": "text/x-python",
   "name": "python",
   "nbconvert_exporter": "python",
   "pygments_lexer": "ipython3",
   "version": "3.9.7"
  }
 },
 "nbformat": 4,
 "nbformat_minor": 5
}
