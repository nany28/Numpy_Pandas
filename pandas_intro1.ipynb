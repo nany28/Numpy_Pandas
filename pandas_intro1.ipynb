{
 "cells": [
  {
   "cell_type": "markdown",
   "id": "711af4d8",
   "metadata": {},
   "source": [
    "#### Create a Pandas series using a list"
   ]
  },
  {
   "cell_type": "code",
   "execution_count": 16,
   "id": "ec4e83f7",
   "metadata": {},
   "outputs": [
    {
     "name": "stdout",
     "output_type": "stream",
     "text": [
      "0    10\n",
      "1    15\n",
      "2    20\n",
      "3    25\n",
      "4    30\n",
      "5    35\n",
      "6    40\n",
      "7    45\n",
      "dtype: int64\n"
     ]
    }
   ],
   "source": [
    "import pandas as pd\n",
    "values = list(range(10,50,5))\n",
    "series = pd.Series(values)\n",
    "print(series)"
   ]
  },
  {
   "cell_type": "markdown",
   "id": "ab3cb95e",
   "metadata": {},
   "source": [
    "#### Accessing the data from a Pd series"
   ]
  },
  {
   "cell_type": "code",
   "execution_count": 32,
   "id": "d4889550",
   "metadata": {},
   "outputs": [
    {
     "name": "stdout",
     "output_type": "stream",
     "text": [
      "10 20 30\n"
     ]
    }
   ],
   "source": [
    "index_1 = series[0]\n",
    "index_3 = series[2]\n",
    "index_5 = series[4]\n",
    "print(index_1,index_3,index_5)"
   ]
  },
  {
   "cell_type": "markdown",
   "id": "6bcc605f",
   "metadata": {},
   "source": [
    "#### Slicing a series"
   ]
  },
  {
   "cell_type": "code",
   "execution_count": 31,
   "id": "39e003e2",
   "metadata": {},
   "outputs": [
    {
     "name": "stdout",
     "output_type": "stream",
     "text": [
      "slice1 =\n",
      " 1    15\n",
      "2    20\n",
      "dtype: int64 \n",
      " slice2 = \n",
      " 0    10\n",
      "1    15\n",
      "2    20\n",
      "3    25\n",
      "4    30\n",
      "dtype: int64 \n",
      " slice3 = \n",
      " 1    15\n",
      "3    25\n",
      "5    35\n",
      "dtype: int64\n"
     ]
    }
   ],
   "source": [
    "slice1 = series[1:3]\n",
    "slice2 = series[:5]\n",
    "slice3 = series[1:6:2]\n",
    "print(\"slice1 =\\n\",slice1,\"\\n slice2 = \\n\",slice2, \"\\n slice3 = \\n\",slice3)\n"
   ]
  },
  {
   "cell_type": "markdown",
   "id": "fb842131",
   "metadata": {},
   "source": [
    "#### Reverse a Panda series"
   ]
  },
  {
   "cell_type": "code",
   "execution_count": 19,
   "id": "9d223114",
   "metadata": {},
   "outputs": [
    {
     "name": "stdout",
     "output_type": "stream",
     "text": [
      "7    45\n",
      "6    40\n",
      "5    35\n",
      "4    30\n",
      "3    25\n",
      "2    20\n",
      "1    15\n",
      "0    10\n",
      "dtype: int64\n"
     ]
    }
   ],
   "source": [
    "print(series[::-1])"
   ]
  },
  {
   "cell_type": "code",
   "execution_count": null,
   "id": "e17bcd00",
   "metadata": {},
   "outputs": [],
   "source": []
  }
 ],
 "metadata": {
  "kernelspec": {
   "display_name": "Python 3 (ipykernel)",
   "language": "python",
   "name": "python3"
  },
  "language_info": {
   "codemirror_mode": {
    "name": "ipython",
    "version": 3
   },
   "file_extension": ".py",
   "mimetype": "text/x-python",
   "name": "python",
   "nbconvert_exporter": "python",
   "pygments_lexer": "ipython3",
   "version": "3.9.7"
  }
 },
 "nbformat": 4,
 "nbformat_minor": 5
}
